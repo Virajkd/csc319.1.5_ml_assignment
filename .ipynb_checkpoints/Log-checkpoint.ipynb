{
 "cells": [
  {
   "cell_type": "code",
   "execution_count": 2,
   "metadata": {},
   "outputs": [],
   "source": [
    "import pandas as pd\n",
    "import numpy as np\n",
    "from sklearn.neighbors import KNeighborsClassifier"
   ]
  },
  {
   "cell_type": "code",
   "execution_count": 3,
   "metadata": {},
   "outputs": [],
   "source": [
    "dataset = pd.read_csv(\"Adult_Census_Income_Binary_Classification_dataset.csv\", index_col=False)"
   ]
  },
  {
   "cell_type": "code",
   "execution_count": 4,
   "metadata": {},
   "outputs": [],
   "source": [
    "colnames = []\n",
    "for i in range(0,len(dataset.columns)):\n",
    "    colnames.append(dataset.columns[i].lstrip())\n",
    "dataset.columns = colnames"
   ]
  },
  {
   "cell_type": "code",
   "execution_count": 5,
   "metadata": {},
   "outputs": [],
   "source": [
    "cat_columns = []\n",
    "for i in [1,2,4,5,6,7,8,12,13]:\n",
    "    cat_columns.append(dataset.columns[i])"
   ]
  },
  {
   "cell_type": "code",
   "execution_count": 6,
   "metadata": {},
   "outputs": [],
   "source": [
    "for i in cat_columns:\n",
    "    dataset[i] = dataset[i].astype('object')\n",
    "dataset = dataset.replace(\" ?\", \"NA\")"
   ]
  },
  {
   "cell_type": "code",
   "execution_count": 7,
   "metadata": {},
   "outputs": [],
   "source": [
    "for i in cat_columns:\n",
    "    dataset[i] = dataset[i].astype('category')"
   ]
  },
  {
   "cell_type": "code",
   "execution_count": 8,
   "metadata": {},
   "outputs": [],
   "source": [
    "cats = dataset.workclass.cat.categories"
   ]
  },
  {
   "cell_type": "code",
   "execution_count": 9,
   "metadata": {},
   "outputs": [],
   "source": [
    "for i in cat_columns:\n",
    "    dataset[i] = pd.Categorical(dataset[i]).codes"
   ]
  },
  {
   "cell_type": "code",
   "execution_count": 10,
   "metadata": {},
   "outputs": [],
   "source": [
    "x_vars = []\n",
    "for i in range(13):\n",
    "    x_vars.append(dataset.columns[i])"
   ]
  },
  {
   "cell_type": "code",
   "execution_count": 11,
   "metadata": {},
   "outputs": [],
   "source": [
    "X = np.array([dataset.age, dataset.workclass, dataset.education, dataset[\"education-num\"], dataset[\"marital-status\"], dataset.occupation, dataset.relationship, dataset.race, dataset.sex, dataset[\"capital-gain\"], dataset[\"capital-loss\"], dataset[\"hours-per-week\"], dataset[\"native-country\"]]).reshape(-1, 13)"
   ]
  },
  {
   "cell_type": "code",
   "execution_count": 12,
   "metadata": {},
   "outputs": [],
   "source": [
    "Y = np.array(dataset.income)"
   ]
  },
  {
   "cell_type": "code",
   "execution_count": 13,
   "metadata": {},
   "outputs": [
    {
     "data": {
      "text/plain": [
       "(32561, 13)"
      ]
     },
     "execution_count": 13,
     "metadata": {},
     "output_type": "execute_result"
    }
   ],
   "source": [
    "np.shape(X)"
   ]
  },
  {
   "cell_type": "code",
   "execution_count": 16,
   "metadata": {},
   "outputs": [
    {
     "data": {
      "text/plain": [
       "(32561,)"
      ]
     },
     "execution_count": 16,
     "metadata": {},
     "output_type": "execute_result"
    }
   ],
   "source": [
    "np.shape(Y)"
   ]
  },
  {
   "cell_type": "code",
   "execution_count": 17,
   "metadata": {
    "scrolled": false
   },
   "outputs": [
    {
     "name": "stderr",
     "output_type": "stream",
     "text": [
      "C:\\Anaconda3\\envs\\tensorflow\\lib\\site-packages\\h5py\\__init__.py:36: FutureWarning: Conversion of the second argument of issubdtype from `float` to `np.floating` is deprecated. In future, it will be treated as `np.float64 == np.dtype(float).type`.\n",
      "  from ._conv import register_converters as _register_converters\n",
      "Using TensorFlow backend.\n"
     ]
    }
   ],
   "source": [
    "from keras.models import Sequential\n",
    "from keras.layers import Dense\n",
    "from keras.optimizers import SGD\n",
    "from keras.utils import np_utils"
   ]
  },
  {
   "cell_type": "code",
   "execution_count": 21,
   "metadata": {},
   "outputs": [],
   "source": [
    "batch_size = 100\n",
    "nb_classes = 2\n",
    "nb_epoch = 100"
   ]
  },
  {
   "cell_type": "code",
   "execution_count": 22,
   "metadata": {},
   "outputs": [],
   "source": [
    "Y = np_utils.to_categorical(Y, nb_classes)"
   ]
  },
  {
   "cell_type": "code",
   "execution_count": 24,
   "metadata": {},
   "outputs": [
    {
     "name": "stdout",
     "output_type": "stream",
     "text": [
      "_________________________________________________________________\n",
      "Layer (type)                 Output Shape              Param #   \n",
      "=================================================================\n",
      "dense_1 (Dense)              (None, 2)                 28        \n",
      "=================================================================\n",
      "Total params: 28\n",
      "Trainable params: 28\n",
      "Non-trainable params: 0\n",
      "_________________________________________________________________\n"
     ]
    }
   ],
   "source": [
    "model = Sequential()\n",
    "model.add(Dense(units = 2, input_shape = (13,), kernel_initializer='normal', activation='softmax'))\n",
    "model.compile(optimizer=SGD(lr=0.05), loss='categorical_crossentropy', metrics=['accuracy'])\n",
    "model.summary()"
   ]
  },
  {
   "cell_type": "code",
   "execution_count": 25,
   "metadata": {
    "scrolled": true
   },
   "outputs": [
    {
     "name": "stdout",
     "output_type": "stream",
     "text": [
      "Epoch 1/100\n",
      "32561/32561 [==============================] - 1s 16us/step - loss: 3.3231 - acc: 0.7235\n",
      "Epoch 2/100\n",
      "32561/32561 [==============================] - 0s 12us/step - loss: 3.7049 - acc: 0.6737\n",
      "Epoch 3/100\n",
      "32561/32561 [==============================] - 1s 16us/step - loss: 3.8115 - acc: 0.7227\n",
      "Epoch 4/100\n",
      "32561/32561 [==============================] - 1s 17us/step - loss: 3.8164 - acc: 0.7261\n",
      "Epoch 5/100\n",
      "32561/32561 [==============================] - 1s 18us/step - loss: 3.8071 - acc: 0.7289\n",
      "Epoch 6/100\n",
      "32561/32561 [==============================] - 1s 18us/step - loss: 3.8384 - acc: 0.7275\n",
      "Epoch 7/100\n",
      "32561/32561 [==============================] - 1s 16us/step - loss: 3.8366 - acc: 0.7161\n",
      "Epoch 8/100\n",
      "32561/32561 [==============================] - 0s 13us/step - loss: 3.7711 - acc: 0.7170\n",
      "Epoch 9/100\n",
      "32561/32561 [==============================] - 0s 12us/step - loss: 3.6225 - acc: 0.7002\n",
      "Epoch 10/100\n",
      "32561/32561 [==============================] - 0s 13us/step - loss: 3.8098 - acc: 0.7242\n",
      "Epoch 11/100\n",
      "32561/32561 [==============================] - 0s 14us/step - loss: 3.7640 - acc: 0.7288\n",
      "Epoch 12/100\n",
      "32561/32561 [==============================] - 1s 17us/step - loss: 3.7929 - acc: 0.7414\n",
      "Epoch 13/100\n",
      "32561/32561 [==============================] - 1s 17us/step - loss: 3.8066 - acc: 0.7416\n",
      "Epoch 14/100\n",
      "32561/32561 [==============================] - 1s 17us/step - loss: 3.8124 - acc: 0.7387\n",
      "Epoch 15/100\n",
      "32561/32561 [==============================] - 1s 17us/step - loss: 3.8142 - acc: 0.7405\n",
      "Epoch 16/100\n",
      "32561/32561 [==============================] - 0s 13us/step - loss: 3.8070 - acc: 0.7392\n",
      "Epoch 17/100\n",
      "32561/32561 [==============================] - 0s 14us/step - loss: 3.8149 - acc: 0.7359\n",
      "Epoch 18/100\n",
      "32561/32561 [==============================] - 0s 14us/step - loss: 3.8343 - acc: 0.7325\n",
      "Epoch 19/100\n",
      "32561/32561 [==============================] - 0s 14us/step - loss: 3.8217 - acc: 0.7308\n",
      "Epoch 20/100\n",
      "32561/32561 [==============================] - 0s 12us/step - loss: 3.8061 - acc: 0.7301\n",
      "Epoch 21/100\n",
      "32561/32561 [==============================] - 0s 14us/step - loss: 3.7881 - acc: 0.7287\n",
      "Epoch 22/100\n",
      "32561/32561 [==============================] - 1s 17us/step - loss: 3.7579 - acc: 0.7262: 0s - loss: 3.7646 - acc\n",
      "Epoch 23/100\n",
      "32561/32561 [==============================] - 1s 17us/step - loss: 3.7187 - acc: 0.7268\n",
      "Epoch 24/100\n",
      "32561/32561 [==============================] - 1s 16us/step - loss: 3.6361 - acc: 0.7097\n",
      "Epoch 25/100\n",
      "32561/32561 [==============================] - 1s 17us/step - loss: 3.1799 - acc: 0.6935\n",
      "Epoch 26/100\n",
      "32561/32561 [==============================] - 0s 12us/step - loss: 3.6865 - acc: 0.7256\n",
      "Epoch 27/100\n",
      "32561/32561 [==============================] - 0s 14us/step - loss: 3.7433 - acc: 0.7244\n",
      "Epoch 28/100\n",
      "32561/32561 [==============================] - 0s 13us/step - loss: 3.7967 - acc: 0.7254\n",
      "Epoch 29/100\n",
      "32561/32561 [==============================] - 0s 13us/step - loss: 3.8476 - acc: 0.7311\n",
      "Epoch 30/100\n",
      "32561/32561 [==============================] - 0s 13us/step - loss: 3.7877 - acc: 0.7406\n",
      "Epoch 31/100\n",
      "32561/32561 [==============================] - 1s 17us/step - loss: 3.8116 - acc: 0.7390\n",
      "Epoch 32/100\n",
      "32561/32561 [==============================] - 1s 17us/step - loss: 3.7890 - acc: 0.7412\n",
      "Epoch 33/100\n",
      "32561/32561 [==============================] - 1s 17us/step - loss: 3.7831 - acc: 0.7409\n",
      "Epoch 34/100\n",
      "32561/32561 [==============================] - 1s 17us/step - loss: 3.7787 - acc: 0.7399\n",
      "Epoch 35/100\n",
      "32561/32561 [==============================] - 1s 16us/step - loss: 3.7743 - acc: 0.7392\n",
      "Epoch 36/100\n",
      "32561/32561 [==============================] - 0s 14us/step - loss: 3.7652 - acc: 0.7358\n",
      "Epoch 37/100\n",
      "32561/32561 [==============================] - 0s 14us/step - loss: 3.7633 - acc: 0.7456\n",
      "Epoch 38/100\n",
      "32561/32561 [==============================] - 0s 14us/step - loss: 3.7657 - acc: 0.7454\n",
      "Epoch 39/100\n",
      "32561/32561 [==============================] - 1s 17us/step - loss: 3.7828 - acc: 0.7441\n",
      "Epoch 40/100\n",
      "32561/32561 [==============================] - 1s 17us/step - loss: 3.7850 - acc: 0.7475\n",
      "Epoch 41/100\n",
      "32561/32561 [==============================] - 1s 17us/step - loss: 3.7733 - acc: 0.7492\n",
      "Epoch 42/100\n",
      "32561/32561 [==============================] - 1s 17us/step - loss: 3.7743 - acc: 0.7493\n",
      "Epoch 43/100\n",
      "32561/32561 [==============================] - 0s 13us/step - loss: 3.7745 - acc: 0.7491\n",
      "Epoch 44/100\n",
      "32561/32561 [==============================] - 0s 13us/step - loss: 3.7735 - acc: 0.7489\n",
      "Epoch 45/100\n",
      "32561/32561 [==============================] - 0s 13us/step - loss: 3.7730 - acc: 0.7486\n",
      "Epoch 46/100\n",
      "32561/32561 [==============================] - 0s 13us/step - loss: 3.7727 - acc: 0.7484\n",
      "Epoch 47/100\n",
      "32561/32561 [==============================] - 0s 13us/step - loss: 3.8304 - acc: 0.7405\n",
      "Epoch 48/100\n",
      "32561/32561 [==============================] - 0s 13us/step - loss: 3.8988 - acc: 0.7308\n",
      "Epoch 49/100\n",
      "32561/32561 [==============================] - 0s 13us/step - loss: 3.8742 - acc: 0.7348\n",
      "Epoch 50/100\n",
      "32561/32561 [==============================] - 0s 13us/step - loss: 3.8624 - acc: 0.7370\n",
      "Epoch 51/100\n",
      "32561/32561 [==============================] - 0s 13us/step - loss: 3.8515 - acc: 0.7390\n",
      "Epoch 52/100\n",
      "32561/32561 [==============================] - 1s 16us/step - loss: 3.8469 - acc: 0.7396\n",
      "Epoch 53/100\n",
      "32561/32561 [==============================] - 0s 14us/step - loss: 3.8437 - acc: 0.7400\n",
      "Epoch 54/100\n",
      "32561/32561 [==============================] - 0s 15us/step - loss: 3.8420 - acc: 0.7402\n",
      "Epoch 55/100\n",
      "32561/32561 [==============================] - ETA: 0s - loss: 3.8383 - acc: 0.740 - 0s 15us/step - loss: 3.8405 - acc: 0.7403\n",
      "Epoch 56/100\n",
      "32561/32561 [==============================] - 1s 16us/step - loss: 3.8390 - acc: 0.7402\n",
      "Epoch 57/100\n",
      "32561/32561 [==============================] - 0s 14us/step - loss: 3.8370 - acc: 0.7403\n",
      "Epoch 58/100\n",
      "32561/32561 [==============================] - 1s 18us/step - loss: 3.8353 - acc: 0.7403\n",
      "Epoch 59/100\n",
      "32561/32561 [==============================] - 1s 16us/step - loss: 3.8339 - acc: 0.7402\n",
      "Epoch 60/100\n",
      "32561/32561 [==============================] - 1s 15us/step - loss: 3.8257 - acc: 0.7420\n",
      "Epoch 61/100\n",
      "32561/32561 [==============================] - 0s 13us/step - loss: 3.8184 - acc: 0.7439\n",
      "Epoch 62/100\n",
      "32561/32561 [==============================] - 0s 13us/step - loss: 3.8009 - acc: 0.7464\n",
      "Epoch 63/100\n",
      "32561/32561 [==============================] - 0s 13us/step - loss: 3.7837 - acc: 0.7483\n",
      "Epoch 64/100\n",
      "32561/32561 [==============================] - 0s 13us/step - loss: 3.7830 - acc: 0.7482\n",
      "Epoch 65/100\n",
      "32561/32561 [==============================] - 0s 13us/step - loss: 3.7813 - acc: 0.7480\n",
      "Epoch 66/100\n",
      "32561/32561 [==============================] - 0s 14us/step - loss: 3.7807 - acc: 0.7479\n",
      "Epoch 67/100\n",
      "32561/32561 [==============================] - 0s 13us/step - loss: 3.7805 - acc: 0.7492\n",
      "Epoch 68/100\n",
      "32561/32561 [==============================] - 0s 14us/step - loss: 3.7772 - acc: 0.7496\n",
      "Epoch 69/100\n",
      "32561/32561 [==============================] - 0s 14us/step - loss: 3.7759 - acc: 0.7495\n",
      "Epoch 70/100\n",
      "32561/32561 [==============================] - 0s 13us/step - loss: 3.7761 - acc: 0.7494\n",
      "Epoch 71/100\n",
      "32561/32561 [==============================] - 0s 13us/step - loss: 3.7757 - acc: 0.7490\n",
      "Epoch 72/100\n",
      "32561/32561 [==============================] - 0s 13us/step - loss: 3.7744 - acc: 0.7488\n",
      "Epoch 73/100\n",
      "32561/32561 [==============================] - 0s 14us/step - loss: 3.7758 - acc: 0.7484\n",
      "Epoch 74/100\n",
      "32561/32561 [==============================] - 0s 13us/step - loss: 3.7741 - acc: 0.7485\n",
      "Epoch 75/100\n",
      "32561/32561 [==============================] - 0s 13us/step - loss: 3.7713 - acc: 0.7483\n",
      "Epoch 76/100\n",
      "32561/32561 [==============================] - 0s 14us/step - loss: 3.7711 - acc: 0.7479\n",
      "Epoch 77/100\n",
      "32561/32561 [==============================] - 0s 15us/step - loss: 3.7696 - acc: 0.7474\n",
      "Epoch 78/100\n",
      "32561/32561 [==============================] - 1s 16us/step - loss: 3.7687 - acc: 0.7469: 0s - loss: 3.7665 - acc:\n",
      "Epoch 79/100\n",
      "32561/32561 [==============================] - 0s 14us/step - loss: 3.7625 - acc: 0.7477\n",
      "Epoch 80/100\n",
      "32561/32561 [==============================] - 0s 14us/step - loss: 3.7308 - acc: 0.7510\n",
      "Epoch 81/100\n",
      "32561/32561 [==============================] - 0s 15us/step - loss: 3.7300 - acc: 0.7510\n",
      "Epoch 82/100\n",
      "32561/32561 [==============================] - 0s 13us/step - loss: 3.7293 - acc: 0.7504\n",
      "Epoch 83/100\n",
      "32561/32561 [==============================] - 0s 12us/step - loss: 3.7273 - acc: 0.7502\n",
      "Epoch 84/100\n",
      "32561/32561 [==============================] - 0s 13us/step - loss: 3.7248 - acc: 0.7502\n",
      "Epoch 85/100\n",
      "32561/32561 [==============================] - 0s 12us/step - loss: 3.7247 - acc: 0.7498\n",
      "Epoch 86/100\n",
      "32561/32561 [==============================] - 0s 15us/step - loss: 3.7237 - acc: 0.7497\n",
      "Epoch 87/100\n",
      "32561/32561 [==============================] - 0s 13us/step - loss: 3.7223 - acc: 0.7494\n",
      "Epoch 88/100\n",
      "32561/32561 [==============================] - 0s 12us/step - loss: 3.7691 - acc: 0.7450\n",
      "Epoch 89/100\n",
      "32561/32561 [==============================] - 0s 13us/step - loss: 3.7585 - acc: 0.7473\n",
      "Epoch 90/100\n",
      "32561/32561 [==============================] - 0s 13us/step - loss: 3.7569 - acc: 0.7471\n",
      "Epoch 91/100\n",
      "32561/32561 [==============================] - 0s 13us/step - loss: 3.7564 - acc: 0.7468\n",
      "Epoch 92/100\n",
      "32561/32561 [==============================] - 0s 13us/step - loss: 3.7563 - acc: 0.7466\n",
      "Epoch 93/100\n",
      "32561/32561 [==============================] - 0s 13us/step - loss: 3.7518 - acc: 0.7472\n",
      "Epoch 94/100\n",
      "32561/32561 [==============================] - 0s 12us/step - loss: 3.7298 - acc: 0.7511\n",
      "Epoch 95/100\n",
      "32561/32561 [==============================] - 0s 13us/step - loss: 3.7286 - acc: 0.7505\n",
      "Epoch 96/100\n",
      "32561/32561 [==============================] - 0s 13us/step - loss: 3.7366 - acc: 0.7503\n",
      "Epoch 97/100\n",
      "32561/32561 [==============================] - 0s 12us/step - loss: 3.7292 - acc: 0.7493\n",
      "Epoch 98/100\n",
      "32561/32561 [==============================] - 0s 13us/step - loss: 3.7266 - acc: 0.7490\n",
      "Epoch 99/100\n",
      "32561/32561 [==============================] - 0s 13us/step - loss: 3.7244 - acc: 0.7487\n",
      "Epoch 100/100\n",
      "32561/32561 [==============================] - 0s 13us/step - loss: 3.7737 - acc: 0.7439\n"
     ]
    }
   ],
   "source": [
    "history = model.fit(X, Y, epochs=nb_epoch, batch_size=batch_size, verbose=1)"
   ]
  },
  {
   "cell_type": "code",
   "execution_count": null,
   "metadata": {},
   "outputs": [],
   "source": []
  }
 ],
 "metadata": {
  "kernelspec": {
   "display_name": "Python 3",
   "language": "python",
   "name": "python3"
  },
  "language_info": {
   "codemirror_mode": {
    "name": "ipython",
    "version": 3
   },
   "file_extension": ".py",
   "mimetype": "text/x-python",
   "name": "python",
   "nbconvert_exporter": "python",
   "pygments_lexer": "ipython3",
   "version": "3.6.4"
  }
 },
 "nbformat": 4,
 "nbformat_minor": 2
}
