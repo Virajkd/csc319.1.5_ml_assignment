{
 "cells": [
  {
   "cell_type": "code",
   "execution_count": 2,
   "metadata": {},
   "outputs": [],
   "source": [
    "import pandas as pd\n",
    "import numpy as np\n",
    "from sklearn.neighbors import KNeighborsClassifier"
   ]
  },
  {
   "cell_type": "code",
   "execution_count": 3,
   "metadata": {},
   "outputs": [],
   "source": [
    "dataset = pd.read_csv(\"dataset.csv\", index_col=False)"
   ]
  },
  {
   "cell_type": "code",
   "execution_count": 4,
   "metadata": {},
   "outputs": [],
   "source": [
    "colnames = []\n",
    "for i in range(0,len(dataset.columns)):\n",
    "    colnames.append(dataset.columns[i].lstrip())\n",
    "dataset.columns = colnames"
   ]
  },
  {
   "cell_type": "code",
   "execution_count": 5,
   "metadata": {},
   "outputs": [],
   "source": [
    "cat_columns = []\n",
    "for i in [1,2,4,5,6,7,8,12,13]:\n",
    "    cat_columns.append(dataset.columns[i])"
   ]
  },
  {
   "cell_type": "code",
   "execution_count": 6,
   "metadata": {},
   "outputs": [],
   "source": [
    "for i in cat_columns:\n",
    "    dataset[i] = dataset[i].astype('object')\n",
    "dataset = dataset.replace(\" ?\", \"NA\")"
   ]
  },
  {
   "cell_type": "code",
   "execution_count": 7,
   "metadata": {},
   "outputs": [],
   "source": [
    "for i in cat_columns:\n",
    "    dataset[i] = dataset[i].astype('category')"
   ]
  },
  {
   "cell_type": "code",
   "execution_count": 8,
   "metadata": {},
   "outputs": [],
   "source": [
    "cats = dataset.workclass.cat.categories"
   ]
  },
  {
   "cell_type": "code",
   "execution_count": 9,
   "metadata": {},
   "outputs": [],
   "source": [
    "for i in cat_columns:\n",
    "    dataset[i] = pd.Categorical(dataset[i]).codes"
   ]
  },
  {
   "cell_type": "code",
   "execution_count": 10,
   "metadata": {},
   "outputs": [],
   "source": [
    "x_vars = []\n",
    "for i in range(13):\n",
    "    x_vars.append(dataset.columns[i])"
   ]
  },
  {
   "cell_type": "code",
   "execution_count": 11,
   "metadata": {},
   "outputs": [],
   "source": [
    "X = np.array([dataset.age, dataset.workclass, dataset.education, dataset[\"education-num\"], dataset[\"marital-status\"], dataset.occupation, dataset.relationship, dataset.race, dataset.sex, dataset[\"capital-gain\"], dataset[\"capital-loss\"], dataset[\"hours-per-week\"], dataset[\"native-country\"]]).reshape(-1, 13)"
   ]
  },
  {
   "cell_type": "code",
   "execution_count": 12,
   "metadata": {},
   "outputs": [],
   "source": [
    "Y = np.array(dataset.income)"
   ]
  },
  {
   "cell_type": "code",
   "execution_count": null,
   "metadata": {},
   "outputs": [],
   "source": []
  },
  {
   "cell_type": "code",
   "execution_count": 17,
   "metadata": {},
   "outputs": [],
   "source": [
    "from keras.models import Sequential\n",
    "from keras.layers import Dense\n",
    "\n",
    "from keras.optimizers import SGD\n",
    "from keras.utils import np_utils"
   ]
  },
  {
   "cell_type": "code",
   "execution_count": 18,
   "metadata": {},
   "outputs": [],
   "source": [
    "nb_epoch = 100\n",
    "nb_classes = 2\n",
    "batch_size = 100\n",
    "\n",
    "layer1 = 13\n",
    "layer2 = 20\n",
    "layer3 = 20"
   ]
  },
  {
   "cell_type": "code",
   "execution_count": 19,
   "metadata": {},
   "outputs": [],
   "source": [
    "Y = np_utils.to_categorical(Y, nb_classes)"
   ]
  },
  {
   "cell_type": "code",
   "execution_count": 20,
   "metadata": {},
   "outputs": [],
   "source": [
    "model = Sequential()"
   ]
  },
  {
   "cell_type": "code",
   "execution_count": 21,
   "metadata": {},
   "outputs": [],
   "source": [
    "model.add(Dense(units=layer2, input_dim=(layer1), activation=\"relu\"))\n",
    "model.add(Dense(units=layer3, activation=\"relu\"))\n",
    "model.add(Dense(units=nb_classes, activation=\"sigmoid\"))"
   ]
  },
  {
   "cell_type": "code",
   "execution_count": 22,
   "metadata": {},
   "outputs": [],
   "source": [
    "model.compile(loss='binary_crossentropy', optimizer='adam', metrics=['accuracy'])"
   ]
  },
  {
   "cell_type": "code",
   "execution_count": 23,
   "metadata": {
    "scrolled": false
   },
   "outputs": [
    {
     "name": "stdout",
     "output_type": "stream",
     "text": [
      "Epoch 1/100\n",
      "32561/32561 [==============================] - 1s 32us/step - loss: 1.1599 - acc: 0.7151\n",
      "Epoch 2/100\n",
      "32561/32561 [==============================] - 0s 15us/step - loss: 0.9509 - acc: 0.7448\n",
      "Epoch 3/100\n",
      "32561/32561 [==============================] - 0s 15us/step - loss: 0.8819 - acc: 0.7535\n",
      "Epoch 4/100\n",
      "32561/32561 [==============================] - 0s 15us/step - loss: 0.8769 - acc: 0.7535\n",
      "Epoch 5/100\n",
      "32561/32561 [==============================] - 0s 14us/step - loss: 0.8657 - acc: 0.7558\n",
      "Epoch 6/100\n",
      "32561/32561 [==============================] - 0s 14us/step - loss: 0.8735 - acc: 0.7563\n",
      "Epoch 7/100\n",
      "32561/32561 [==============================] - 0s 14us/step - loss: 0.8639 - acc: 0.7571\n",
      "Epoch 8/100\n",
      "32561/32561 [==============================] - 0s 15us/step - loss: 0.8564 - acc: 0.7589\n",
      "Epoch 9/100\n",
      "32561/32561 [==============================] - 0s 15us/step - loss: 0.8562 - acc: 0.7587\n",
      "Epoch 10/100\n",
      "32561/32561 [==============================] - 0s 14us/step - loss: 0.8550 - acc: 0.7590\n",
      "Epoch 11/100\n",
      "32561/32561 [==============================] - 0s 15us/step - loss: 0.8556 - acc: 0.7587\n",
      "Epoch 12/100\n",
      "32561/32561 [==============================] - 0s 15us/step - loss: 0.8555 - acc: 0.7584\n",
      "Epoch 13/100\n",
      "32561/32561 [==============================] - 1s 18us/step - loss: 0.9277 - acc: 0.7509\n",
      "Epoch 14/100\n",
      "32561/32561 [==============================] - 0s 15us/step - loss: 0.9468 - acc: 0.7526\n",
      "Epoch 15/100\n",
      "32561/32561 [==============================] - 0s 15us/step - loss: 0.9212 - acc: 0.7547\n",
      "Epoch 16/100\n",
      "32561/32561 [==============================] - 0s 15us/step - loss: 0.9089 - acc: 0.7556\n",
      "Epoch 17/100\n",
      "32561/32561 [==============================] - 1s 15us/step - loss: 0.8874 - acc: 0.7569\n",
      "Epoch 18/100\n",
      "32561/32561 [==============================] - 0s 15us/step - loss: 0.8929 - acc: 0.7564\n",
      "Epoch 19/100\n",
      "32561/32561 [==============================] - 0s 15us/step - loss: 0.8969 - acc: 0.7560\n",
      "Epoch 20/100\n",
      "32561/32561 [==============================] - 0s 15us/step - loss: 0.8910 - acc: 0.7566\n",
      "Epoch 21/100\n",
      "32561/32561 [==============================] - 0s 15us/step - loss: 0.8891 - acc: 0.7567\n",
      "Epoch 22/100\n",
      "32561/32561 [==============================] - 0s 15us/step - loss: 0.8737 - acc: 0.7578\n",
      "Epoch 23/100\n",
      "32561/32561 [==============================] - 0s 15us/step - loss: 0.8512 - acc: 0.7592\n",
      "Epoch 24/100\n",
      "32561/32561 [==============================] - 0s 15us/step - loss: 0.8515 - acc: 0.7591: 0s - loss: 0.8545 - ac\n",
      "Epoch 25/100\n",
      "32561/32561 [==============================] - 0s 15us/step - loss: 0.8558 - acc: 0.7585\n",
      "Epoch 26/100\n",
      "32561/32561 [==============================] - 0s 15us/step - loss: 0.8813 - acc: 0.7573\n",
      "Epoch 27/100\n",
      "32561/32561 [==============================] - 0s 15us/step - loss: 0.8628 - acc: 0.7584\n",
      "Epoch 28/100\n",
      "32561/32561 [==============================] - 0s 15us/step - loss: 0.8494 - acc: 0.7592\n",
      "Epoch 29/100\n",
      "32561/32561 [==============================] - 1s 15us/step - loss: 0.8492 - acc: 0.7592\n",
      "Epoch 30/100\n",
      "32561/32561 [==============================] - 0s 15us/step - loss: 0.8493 - acc: 0.7592\n",
      "Epoch 31/100\n",
      "32561/32561 [==============================] - 1s 15us/step - loss: 0.8492 - acc: 0.7592\n",
      "Epoch 32/100\n",
      "32561/32561 [==============================] - 0s 15us/step - loss: 0.8491 - acc: 0.7592\n",
      "Epoch 33/100\n",
      "32561/32561 [==============================] - 1s 15us/step - loss: 0.8489 - acc: 0.7592\n",
      "Epoch 34/100\n",
      "32561/32561 [==============================] - 0s 15us/step - loss: 0.8489 - acc: 0.7592\n",
      "Epoch 35/100\n",
      "32561/32561 [==============================] - 0s 15us/step - loss: 0.8503 - acc: 0.7591\n",
      "Epoch 36/100\n",
      "32561/32561 [==============================] - 0s 15us/step - loss: 0.8495 - acc: 0.7590\n",
      "Epoch 37/100\n",
      "32561/32561 [==============================] - 1s 15us/step - loss: 0.8461 - acc: 0.7591\n",
      "Epoch 38/100\n",
      "32561/32561 [==============================] - 1s 15us/step - loss: 0.8470 - acc: 0.7591\n",
      "Epoch 39/100\n",
      "32561/32561 [==============================] - 1s 15us/step - loss: 0.8456 - acc: 0.7591\n",
      "Epoch 40/100\n",
      "32561/32561 [==============================] - 0s 15us/step - loss: 0.8477 - acc: 0.7588\n",
      "Epoch 41/100\n",
      "32561/32561 [==============================] - 0s 15us/step - loss: 0.8544 - acc: 0.7581\n",
      "Epoch 42/100\n",
      "32561/32561 [==============================] - 0s 15us/step - loss: 0.8419 - acc: 0.7590\n",
      "Epoch 43/100\n",
      "32561/32561 [==============================] - 1s 15us/step - loss: 0.8479 - acc: 0.7591\n",
      "Epoch 44/100\n",
      "32561/32561 [==============================] - 0s 15us/step - loss: 0.8465 - acc: 0.7593\n",
      "Epoch 45/100\n",
      "32561/32561 [==============================] - 1s 16us/step - loss: 0.8465 - acc: 0.7593\n",
      "Epoch 46/100\n",
      "32561/32561 [==============================] - 0s 15us/step - loss: 0.8372 - acc: 0.7593\n",
      "Epoch 47/100\n",
      "32561/32561 [==============================] - 1s 16us/step - loss: 0.8313 - acc: 0.7593\n",
      "Epoch 48/100\n",
      "32561/32561 [==============================] - 0s 15us/step - loss: 0.8306 - acc: 0.7593\n",
      "Epoch 49/100\n",
      "32561/32561 [==============================] - 1s 16us/step - loss: 0.8315 - acc: 0.7593\n",
      "Epoch 50/100\n",
      "32561/32561 [==============================] - 0s 14us/step - loss: 0.8308 - acc: 0.7593\n",
      "Epoch 51/100\n",
      "32561/32561 [==============================] - 1s 15us/step - loss: 0.8308 - acc: 0.7593\n",
      "Epoch 52/100\n",
      "32561/32561 [==============================] - 0s 15us/step - loss: 0.8335 - acc: 0.7592\n",
      "Epoch 53/100\n",
      "32561/32561 [==============================] - 1s 16us/step - loss: 0.8307 - acc: 0.7593\n",
      "Epoch 54/100\n",
      "32561/32561 [==============================] - 0s 15us/step - loss: 0.8316 - acc: 0.7592\n",
      "Epoch 55/100\n",
      "32561/32561 [==============================] - 1s 16us/step - loss: 0.8310 - acc: 0.7593\n",
      "Epoch 56/100\n",
      "32561/32561 [==============================] - 0s 15us/step - loss: 0.8319 - acc: 0.7592\n",
      "Epoch 57/100\n",
      "32561/32561 [==============================] - 1s 16us/step - loss: 0.8311 - acc: 0.7592\n",
      "Epoch 58/100\n",
      "32561/32561 [==============================] - 1s 16us/step - loss: 0.8316 - acc: 0.7593\n",
      "Epoch 59/100\n",
      "32561/32561 [==============================] - 1s 16us/step - loss: 0.8306 - acc: 0.7592\n",
      "Epoch 60/100\n",
      "32561/32561 [==============================] - 0s 15us/step - loss: 0.8307 - acc: 0.7593\n",
      "Epoch 61/100\n",
      "32561/32561 [==============================] - 1s 16us/step - loss: 0.8317 - acc: 0.7591\n",
      "Epoch 62/100\n",
      "32561/32561 [==============================] - 0s 15us/step - loss: 0.8357 - acc: 0.7589\n",
      "Epoch 63/100\n",
      "32561/32561 [==============================] - 1s 16us/step - loss: 0.8337 - acc: 0.7591\n",
      "Epoch 64/100\n",
      "32561/32561 [==============================] - 0s 15us/step - loss: 0.8313 - acc: 0.7592\n",
      "Epoch 65/100\n",
      "32561/32561 [==============================] - 1s 16us/step - loss: 0.8336 - acc: 0.7590\n",
      "Epoch 66/100\n",
      "32561/32561 [==============================] - 0s 15us/step - loss: 0.8345 - acc: 0.7591\n",
      "Epoch 67/100\n",
      "32561/32561 [==============================] - 1s 16us/step - loss: 0.8338 - acc: 0.7591\n",
      "Epoch 68/100\n",
      "32561/32561 [==============================] - 0s 15us/step - loss: 0.8313 - acc: 0.7592\n",
      "Epoch 69/100\n",
      "32561/32561 [==============================] - 1s 16us/step - loss: 0.8306 - acc: 0.7592\n",
      "Epoch 70/100\n",
      "32561/32561 [==============================] - 0s 15us/step - loss: 0.8315 - acc: 0.7592\n",
      "Epoch 71/100\n",
      "32561/32561 [==============================] - 1s 16us/step - loss: 0.8306 - acc: 0.7593\n",
      "Epoch 72/100\n",
      "32561/32561 [==============================] - 0s 15us/step - loss: 0.8306 - acc: 0.7593\n",
      "Epoch 73/100\n",
      "32561/32561 [==============================] - 1s 16us/step - loss: 0.8304 - acc: 0.7593\n",
      "Epoch 74/100\n",
      "32561/32561 [==============================] - 0s 15us/step - loss: 0.8305 - acc: 0.7593\n",
      "Epoch 75/100\n",
      "32561/32561 [==============================] - 1s 16us/step - loss: 0.8304 - acc: 0.7593\n",
      "Epoch 76/100\n",
      "32561/32561 [==============================] - 0s 15us/step - loss: 0.8307 - acc: 0.7593\n",
      "Epoch 77/100\n",
      "32561/32561 [==============================] - 1s 16us/step - loss: 0.8308 - acc: 0.7593\n",
      "Epoch 78/100\n",
      "32561/32561 [==============================] - 1s 16us/step - loss: 0.8307 - acc: 0.7593\n",
      "Epoch 79/100\n",
      "32561/32561 [==============================] - 1s 16us/step - loss: 0.8310 - acc: 0.7592\n",
      "Epoch 80/100\n",
      "32561/32561 [==============================] - 0s 15us/step - loss: 0.8306 - acc: 0.7592\n",
      "Epoch 81/100\n"
     ]
    },
    {
     "name": "stdout",
     "output_type": "stream",
     "text": [
      "32561/32561 [==============================] - 0s 15us/step - loss: 0.8305 - acc: 0.7592\n",
      "Epoch 82/100\n",
      "32561/32561 [==============================] - 0s 14us/step - loss: 0.8306 - acc: 0.7593\n",
      "Epoch 83/100\n",
      "32561/32561 [==============================] - 0s 14us/step - loss: 0.8308 - acc: 0.7592\n",
      "Epoch 84/100\n",
      "32561/32561 [==============================] - 0s 14us/step - loss: 0.8309 - acc: 0.7592\n",
      "Epoch 85/100\n",
      "32561/32561 [==============================] - 0s 15us/step - loss: 0.8326 - acc: 0.7591\n",
      "Epoch 86/100\n",
      "32561/32561 [==============================] - 0s 14us/step - loss: 0.8344 - acc: 0.7591\n",
      "Epoch 87/100\n",
      "32561/32561 [==============================] - 0s 14us/step - loss: 0.8348 - acc: 0.7592\n",
      "Epoch 88/100\n",
      "32561/32561 [==============================] - 0s 14us/step - loss: 0.8319 - acc: 0.7592\n",
      "Epoch 89/100\n",
      "32561/32561 [==============================] - 0s 14us/step - loss: 0.8320 - acc: 0.7593\n",
      "Epoch 90/100\n",
      "32561/32561 [==============================] - 0s 15us/step - loss: 0.8309 - acc: 0.7592\n",
      "Epoch 91/100\n",
      "32561/32561 [==============================] - 1s 16us/step - loss: 0.8315 - acc: 0.7591\n",
      "Epoch 92/100\n",
      "32561/32561 [==============================] - 1s 16us/step - loss: 0.8309 - acc: 0.7592\n",
      "Epoch 93/100\n",
      "32561/32561 [==============================] - 0s 14us/step - loss: 0.8309 - acc: 0.7592\n",
      "Epoch 94/100\n",
      "32561/32561 [==============================] - 0s 14us/step - loss: 0.8296 - acc: 0.7592\n",
      "Epoch 95/100\n",
      "32561/32561 [==============================] - 0s 14us/step - loss: 0.8289 - acc: 0.7592\n",
      "Epoch 96/100\n",
      "32561/32561 [==============================] - 0s 14us/step - loss: 0.8299 - acc: 0.7592\n",
      "Epoch 97/100\n",
      "32561/32561 [==============================] - 0s 14us/step - loss: 0.8285 - acc: 0.7594\n",
      "Epoch 98/100\n",
      "32561/32561 [==============================] - 0s 15us/step - loss: 0.8272 - acc: 0.7594\n",
      "Epoch 99/100\n",
      "32561/32561 [==============================] - 1s 15us/step - loss: 0.8276 - acc: 0.7593\n",
      "Epoch 100/100\n",
      "32561/32561 [==============================] - 0s 15us/step - loss: 0.8295 - acc: 0.7592\n"
     ]
    },
    {
     "data": {
      "text/plain": [
       "<keras.callbacks.History at 0x24b209b37b8>"
      ]
     },
     "execution_count": 23,
     "metadata": {},
     "output_type": "execute_result"
    }
   ],
   "source": [
    "model.fit(X, Y, epochs=nb_epoch, batch_size=batch_size)"
   ]
  },
  {
   "cell_type": "code",
   "execution_count": null,
   "metadata": {},
   "outputs": [],
   "source": []
  }
 ],
 "metadata": {
  "kernelspec": {
   "display_name": "Python 3",
   "language": "python",
   "name": "python3"
  },
  "language_info": {
   "codemirror_mode": {
    "name": "ipython",
    "version": 3
   },
   "file_extension": ".py",
   "mimetype": "text/x-python",
   "name": "python",
   "nbconvert_exporter": "python",
   "pygments_lexer": "ipython3",
   "version": "3.6.4"
  }
 },
 "nbformat": 4,
 "nbformat_minor": 2
}
