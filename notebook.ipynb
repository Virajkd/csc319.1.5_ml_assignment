{
 "cells": [
  {
   "cell_type": "markdown",
   "metadata": {},
   "source": [
    "### Imports"
   ]
  },
  {
   "cell_type": "code",
   "execution_count": 121,
   "metadata": {},
   "outputs": [],
   "source": [
    "import numpy as np\n",
    "import pandas as pd\n",
    "from sklearn.neighbors import KNeighborsClassifier\n",
    "\n",
    "from keras.models import Sequential\n",
    "from keras.layers import Dense\n",
    "from keras.optimizers import SGD\n",
    "from keras.utils import np_utils\n",
    "\n",
    "from sklearn import cross_validation\n",
    "from sklearn.metrics import accuracy_score"
   ]
  },
  {
   "cell_type": "markdown",
   "metadata": {},
   "source": [
    "### Get Data"
   ]
  },
  {
   "cell_type": "code",
   "execution_count": 29,
   "metadata": {},
   "outputs": [],
   "source": [
    "df = pd.read_csv(\"Adult_Census_Income_Binary_Classification_dataset.csv\")"
   ]
  },
  {
   "cell_type": "markdown",
   "metadata": {},
   "source": [
    "### Fix Dataset"
   ]
  },
  {
   "cell_type": "code",
   "execution_count": 30,
   "metadata": {},
   "outputs": [],
   "source": [
    "cat_columns = []\n",
    "for i in [1,2,4,5,6,7,8,12,13]:\n",
    "    cat_columns.append(df.columns[i])"
   ]
  },
  {
   "cell_type": "markdown",
   "metadata": {},
   "source": [
    "#### handle missing data"
   ]
  },
  {
   "cell_type": "code",
   "execution_count": 86,
   "metadata": {},
   "outputs": [],
   "source": [
    "df = df.replace(\" ?\", pd.NaT)\n",
    "df.dropna(inplace=True)"
   ]
  },
  {
   "cell_type": "code",
   "execution_count": 87,
   "metadata": {},
   "outputs": [],
   "source": [
    "for i in cat_columns:\n",
    "    df[i] = df[i].astype('category')"
   ]
  },
  {
   "cell_type": "markdown",
   "metadata": {},
   "source": [
    "#### handle categoricle features"
   ]
  },
  {
   "cell_type": "code",
   "execution_count": 88,
   "metadata": {},
   "outputs": [],
   "source": [
    "for i in cat_columns:\n",
    "    df[i] = pd.Categorical(df[i]).codes"
   ]
  },
  {
   "cell_type": "code",
   "execution_count": 89,
   "metadata": {},
   "outputs": [
    {
     "data": {
      "text/html": [
       "<div>\n",
       "<style scoped>\n",
       "    .dataframe tbody tr th:only-of-type {\n",
       "        vertical-align: middle;\n",
       "    }\n",
       "\n",
       "    .dataframe tbody tr th {\n",
       "        vertical-align: top;\n",
       "    }\n",
       "\n",
       "    .dataframe thead th {\n",
       "        text-align: right;\n",
       "    }\n",
       "</style>\n",
       "<table border=\"1\" class=\"dataframe\">\n",
       "  <thead>\n",
       "    <tr style=\"text-align: right;\">\n",
       "      <th></th>\n",
       "      <th>age</th>\n",
       "      <th>workclass</th>\n",
       "      <th>education</th>\n",
       "      <th>education-num</th>\n",
       "      <th>marital-status</th>\n",
       "      <th>occupation</th>\n",
       "      <th>relationship</th>\n",
       "      <th>race</th>\n",
       "      <th>sex</th>\n",
       "      <th>capital-gain</th>\n",
       "      <th>capital-loss</th>\n",
       "      <th>hours-per-week</th>\n",
       "      <th>native-country</th>\n",
       "      <th>income</th>\n",
       "    </tr>\n",
       "  </thead>\n",
       "  <tbody>\n",
       "    <tr>\n",
       "      <th>32556</th>\n",
       "      <td>27</td>\n",
       "      <td>3</td>\n",
       "      <td>7</td>\n",
       "      <td>12</td>\n",
       "      <td>2</td>\n",
       "      <td>12</td>\n",
       "      <td>5</td>\n",
       "      <td>4</td>\n",
       "      <td>0</td>\n",
       "      <td>0</td>\n",
       "      <td>0</td>\n",
       "      <td>38</td>\n",
       "      <td>38</td>\n",
       "      <td>0</td>\n",
       "    </tr>\n",
       "    <tr>\n",
       "      <th>32557</th>\n",
       "      <td>40</td>\n",
       "      <td>3</td>\n",
       "      <td>11</td>\n",
       "      <td>9</td>\n",
       "      <td>2</td>\n",
       "      <td>6</td>\n",
       "      <td>0</td>\n",
       "      <td>4</td>\n",
       "      <td>1</td>\n",
       "      <td>0</td>\n",
       "      <td>0</td>\n",
       "      <td>40</td>\n",
       "      <td>38</td>\n",
       "      <td>1</td>\n",
       "    </tr>\n",
       "    <tr>\n",
       "      <th>32558</th>\n",
       "      <td>58</td>\n",
       "      <td>3</td>\n",
       "      <td>11</td>\n",
       "      <td>9</td>\n",
       "      <td>6</td>\n",
       "      <td>0</td>\n",
       "      <td>4</td>\n",
       "      <td>4</td>\n",
       "      <td>0</td>\n",
       "      <td>0</td>\n",
       "      <td>0</td>\n",
       "      <td>40</td>\n",
       "      <td>38</td>\n",
       "      <td>0</td>\n",
       "    </tr>\n",
       "    <tr>\n",
       "      <th>32559</th>\n",
       "      <td>22</td>\n",
       "      <td>3</td>\n",
       "      <td>11</td>\n",
       "      <td>9</td>\n",
       "      <td>4</td>\n",
       "      <td>0</td>\n",
       "      <td>3</td>\n",
       "      <td>4</td>\n",
       "      <td>1</td>\n",
       "      <td>0</td>\n",
       "      <td>0</td>\n",
       "      <td>20</td>\n",
       "      <td>38</td>\n",
       "      <td>0</td>\n",
       "    </tr>\n",
       "    <tr>\n",
       "      <th>32560</th>\n",
       "      <td>52</td>\n",
       "      <td>4</td>\n",
       "      <td>11</td>\n",
       "      <td>9</td>\n",
       "      <td>2</td>\n",
       "      <td>3</td>\n",
       "      <td>5</td>\n",
       "      <td>4</td>\n",
       "      <td>0</td>\n",
       "      <td>15024</td>\n",
       "      <td>0</td>\n",
       "      <td>40</td>\n",
       "      <td>38</td>\n",
       "      <td>1</td>\n",
       "    </tr>\n",
       "  </tbody>\n",
       "</table>\n",
       "</div>"
      ],
      "text/plain": [
       "       age   workclass   education   education-num   marital-status  \\\n",
       "32556   27           3           7              12                2   \n",
       "32557   40           3          11               9                2   \n",
       "32558   58           3          11               9                6   \n",
       "32559   22           3          11               9                4   \n",
       "32560   52           4          11               9                2   \n",
       "\n",
       "        occupation   relationship   race   sex   capital-gain   capital-loss  \\\n",
       "32556           12              5      4     0              0              0   \n",
       "32557            6              0      4     1              0              0   \n",
       "32558            0              4      4     0              0              0   \n",
       "32559            0              3      4     1              0              0   \n",
       "32560            3              5      4     0          15024              0   \n",
       "\n",
       "        hours-per-week   native-country   income  \n",
       "32556               38               38        0  \n",
       "32557               40               38        1  \n",
       "32558               40               38        0  \n",
       "32559               20               38        0  \n",
       "32560               40               38        1  "
      ]
     },
     "execution_count": 89,
     "metadata": {},
     "output_type": "execute_result"
    }
   ],
   "source": [
    "df.tail()"
   ]
  },
  {
   "cell_type": "code",
   "execution_count": 90,
   "metadata": {},
   "outputs": [],
   "source": [
    "X = np.zeros((13, len(df)))"
   ]
  },
  {
   "cell_type": "code",
   "execution_count": 91,
   "metadata": {},
   "outputs": [],
   "source": [
    "for i in range(len(df.columns)-1):\n",
    "    X[i] = np.array(df[df.columns[i]])"
   ]
  },
  {
   "cell_type": "code",
   "execution_count": 93,
   "metadata": {},
   "outputs": [],
   "source": [
    "X = X.transpose()"
   ]
  },
  {
   "cell_type": "code",
   "execution_count": 103,
   "metadata": {},
   "outputs": [],
   "source": [
    "y = np.array(df[df.columns[13]])"
   ]
  },
  {
   "cell_type": "code",
   "execution_count": 203,
   "metadata": {},
   "outputs": [],
   "source": [
    "X_train, X_test, y_train, y_test = cross_validation.train_test_split(X, y, test_size=0.2)"
   ]
  },
  {
   "cell_type": "markdown",
   "metadata": {},
   "source": [
    "## k-nearest neighbors"
   ]
  },
  {
   "cell_type": "code",
   "execution_count": 204,
   "metadata": {},
   "outputs": [],
   "source": [
    "knn = KNeighborsClassifier()"
   ]
  },
  {
   "cell_type": "markdown",
   "metadata": {},
   "source": [
    "### Train model"
   ]
  },
  {
   "cell_type": "code",
   "execution_count": 205,
   "metadata": {},
   "outputs": [
    {
     "data": {
      "text/plain": [
       "KNeighborsClassifier(algorithm='auto', leaf_size=30, metric='minkowski',\n",
       "           metric_params=None, n_jobs=1, n_neighbors=5, p=2,\n",
       "           weights='uniform')"
      ]
     },
     "execution_count": 205,
     "metadata": {},
     "output_type": "execute_result"
    }
   ],
   "source": [
    "knn.fit(X_train, y_train)"
   ]
  },
  {
   "cell_type": "markdown",
   "metadata": {},
   "source": [
    "### Accuracy"
   ]
  },
  {
   "cell_type": "code",
   "execution_count": 206,
   "metadata": {},
   "outputs": [
    {
     "data": {
      "text/plain": [
       "0.8386304314448026"
      ]
     },
     "execution_count": 206,
     "metadata": {},
     "output_type": "execute_result"
    }
   ],
   "source": [
    "knn.score(X_test, y_test)"
   ]
  },
  {
   "cell_type": "code",
   "execution_count": 207,
   "metadata": {},
   "outputs": [
    {
     "data": {
      "text/plain": [
       "0.8386304314448026"
      ]
     },
     "execution_count": 207,
     "metadata": {},
     "output_type": "execute_result"
    }
   ],
   "source": [
    "y_predict = knn.predict(X_test)\n",
    "accuracy_score(y_predict, y_test)"
   ]
  },
  {
   "cell_type": "code",
   "execution_count": 208,
   "metadata": {},
   "outputs": [],
   "source": [
    "best_acc = 0.0\n",
    "best_knn = KNeighborsClassifier()"
   ]
  },
  {
   "cell_type": "code",
   "execution_count": 209,
   "metadata": {},
   "outputs": [],
   "source": [
    "def best_model(trials=5):\n",
    "    global best_acc\n",
    "    global best_knn\n",
    "    for i in range(trials):\n",
    "        best_knn = KNeighborsClassifier()\n",
    "        X_train, X_test, y_train, y_test = cross_validation.train_test_split(X, y, test_size=0.2)\n",
    "        best_knn.fit(X_train, y_train)\n",
    "        acc = best_knn.score(X_test, y_test)\n",
    "        if (best_acc<acc):\n",
    "            best_acc = acc\n",
    "            best_knn = knn\n",
    "            print(best_acc)\n",
    "    return best_knn, best_acc"
   ]
  },
  {
   "cell_type": "code",
   "execution_count": 211,
   "metadata": {},
   "outputs": [],
   "source": [
    "#best_model(100)"
   ]
  },
  {
   "cell_type": "markdown",
   "metadata": {},
   "source": [
    "## Logistic Regression"
   ]
  },
  {
   "cell_type": "code",
   "execution_count": 212,
   "metadata": {},
   "outputs": [],
   "source": [
    "batch_size = 88\n",
    "output_classes = 2\n",
    "epochs = 100"
   ]
  },
  {
   "cell_type": "code",
   "execution_count": 213,
   "metadata": {},
   "outputs": [],
   "source": [
    "y_train = np_utils.to_categorical(y_train, output_classes)\n",
    "y_test = np_utils.to_categorical(y_test, output_classes)"
   ]
  },
  {
   "cell_type": "code",
   "execution_count": 214,
   "metadata": {},
   "outputs": [
    {
     "data": {
      "text/plain": [
       "array([[1., 0.],\n",
       "       [0., 1.],\n",
       "       [0., 1.],\n",
       "       ...,\n",
       "       [1., 0.],\n",
       "       [0., 1.],\n",
       "       [1., 0.]], dtype=float32)"
      ]
     },
     "execution_count": 214,
     "metadata": {},
     "output_type": "execute_result"
    }
   ],
   "source": [
    "y_train"
   ]
  },
  {
   "cell_type": "code",
   "execution_count": 215,
   "metadata": {},
   "outputs": [],
   "source": [
    "#### M"
   ]
  },
  {
   "cell_type": "code",
   "execution_count": 225,
   "metadata": {},
   "outputs": [
    {
     "name": "stdout",
     "output_type": "stream",
     "text": [
      "_________________________________________________________________\n",
      "Layer (type)                 Output Shape              Param #   \n",
      "=================================================================\n",
      "dense_5 (Dense)              (None, 2)                 28        \n",
      "=================================================================\n",
      "Total params: 28\n",
      "Trainable params: 28\n",
      "Non-trainable params: 0\n",
      "_________________________________________________________________\n"
     ]
    }
   ],
   "source": [
    "model = Sequential()\n",
    "model.add(Dense(2, input_dim=(13), kernel_initializer='normal', activation='softmax'))\n",
    "model.compile(optimizer=SGD(lr=0.05), loss='categorical_crossentropy', metrics=['accuracy'])\n",
    "model.summary()"
   ]
  },
  {
   "cell_type": "code",
   "execution_count": 226,
   "metadata": {
    "scrolled": false
   },
   "outputs": [
    {
     "name": "stdout",
     "output_type": "stream",
     "text": [
      "Epoch 1/1\n",
      "26048/26048 [==============================] - 1s 20us/step - loss: 3.5605 - acc: 0.7774\n"
     ]
    }
   ],
   "source": [
    "history = model.fit(X_train, y_train, batch_size=batch_size, epochs=epochs)"
   ]
  },
  {
   "cell_type": "code",
   "execution_count": 227,
   "metadata": {},
   "outputs": [
    {
     "name": "stdout",
     "output_type": "stream",
     "text": [
      "6513/6513 [==============================] - 0s 27us/step\n"
     ]
    }
   ],
   "source": [
    "evaluation = model.evaluate(X_test, y_test, verbose=1)"
   ]
  },
  {
   "cell_type": "code",
   "execution_count": 228,
   "metadata": {},
   "outputs": [
    {
     "data": {
      "text/plain": [
       "0.7764471057884231"
      ]
     },
     "execution_count": 228,
     "metadata": {},
     "output_type": "execute_result"
    }
   ],
   "source": [
    "evaluation[1]"
   ]
  },
  {
   "cell_type": "markdown",
   "metadata": {},
   "source": [
    "## Neural Network"
   ]
  },
  {
   "cell_type": "code",
   "execution_count": 229,
   "metadata": {},
   "outputs": [],
   "source": [
    "n_layer1 = 13\n",
    "n_layer2 = 20\n",
    "n_layer3 = 20"
   ]
  },
  {
   "cell_type": "code",
   "execution_count": 230,
   "metadata": {},
   "outputs": [],
   "source": [
    "model = Sequential()"
   ]
  },
  {
   "cell_type": "code",
   "execution_count": 234,
   "metadata": {},
   "outputs": [],
   "source": [
    "model.add(Dense(n_layer2, input_dim=n_layer1, activation='relu'))\n",
    "model.add(Dense(n_layer3, activation='relu'))\n",
    "model.add(Dense(output_classes, activation='softmax'))"
   ]
  },
  {
   "cell_type": "code",
   "execution_count": 235,
   "metadata": {},
   "outputs": [],
   "source": [
    "model.compile(loss='binary_crossentropy', optimizer='adam', metrics=['accuracy'])"
   ]
  },
  {
   "cell_type": "code",
   "execution_count": 236,
   "metadata": {
    "scrolled": false
   },
   "outputs": [
    {
     "name": "stdout",
     "output_type": "stream",
     "text": [
      "Epoch 1/100\n",
      "26048/26048 [==============================] - 1s 28us/step - loss: 1.6853 - acc: 0.7349\n",
      "Epoch 2/100\n",
      "26048/26048 [==============================] - 1s 23us/step - loss: 1.5704 - acc: 0.7614\n",
      "Epoch 3/100\n",
      "26048/26048 [==============================] - 0s 17us/step - loss: 1.5562 - acc: 0.7702\n",
      "Epoch 4/100\n",
      "26048/26048 [==============================] - 0s 18us/step - loss: 1.5477 - acc: 0.7727\n",
      "Epoch 5/100\n",
      "26048/26048 [==============================] - 0s 18us/step - loss: 1.5451 - acc: 0.7746\n",
      "Epoch 6/100\n",
      "26048/26048 [==============================] - 1s 25us/step - loss: 1.5451 - acc: 0.7730\n",
      "Epoch 7/100\n",
      "26048/26048 [==============================] - 1s 24us/step - loss: 1.5397 - acc: 0.7771\n",
      "Epoch 8/100\n",
      "26048/26048 [==============================] - 1s 24us/step - loss: 1.5380 - acc: 0.7763\n",
      "Epoch 9/100\n",
      "26048/26048 [==============================] - 1s 23us/step - loss: 1.5362 - acc: 0.7773\n",
      "Epoch 10/100\n",
      "26048/26048 [==============================] - 1s 29us/step - loss: 1.5339 - acc: 0.7770\n",
      "Epoch 11/100\n",
      "26048/26048 [==============================] - 1s 22us/step - loss: 1.5312 - acc: 0.7796\n",
      "Epoch 12/100\n",
      "26048/26048 [==============================] - 0s 19us/step - loss: 1.5294 - acc: 0.7800\n",
      "Epoch 13/100\n",
      "26048/26048 [==============================] - 1s 27us/step - loss: 1.5222 - acc: 0.7834\n",
      "Epoch 14/100\n",
      "26048/26048 [==============================] - 0s 19us/step - loss: 1.5136 - acc: 0.7830\n",
      "Epoch 15/100\n",
      "26048/26048 [==============================] - 1s 23us/step - loss: 1.5098 - acc: 0.7855\n",
      "Epoch 16/100\n",
      "26048/26048 [==============================] - 1s 21us/step - loss: 1.5087 - acc: 0.7856\n",
      "Epoch 17/100\n",
      "26048/26048 [==============================] - 1s 24us/step - loss: 1.5100 - acc: 0.7834\n",
      "Epoch 18/100\n",
      "26048/26048 [==============================] - 1s 30us/step - loss: 1.5077 - acc: 0.7857\n",
      "Epoch 19/100\n",
      "26048/26048 [==============================] - 1s 31us/step - loss: 1.5049 - acc: 0.7871\n",
      "Epoch 20/100\n",
      "26048/26048 [==============================] - 1s 25us/step - loss: 1.5040 - acc: 0.7866\n",
      "Epoch 21/100\n",
      "26048/26048 [==============================] - 0s 19us/step - loss: 1.5025 - acc: 0.7881\n",
      "Epoch 22/100\n",
      "26048/26048 [==============================] - 0s 18us/step - loss: 1.5073 - acc: 0.7854\n",
      "Epoch 23/100\n",
      "26048/26048 [==============================] - 0s 19us/step - loss: 1.5016 - acc: 0.7862\n",
      "Epoch 24/100\n",
      "26048/26048 [==============================] - 0s 19us/step - loss: 1.5034 - acc: 0.7872\n",
      "Epoch 25/100\n",
      "26048/26048 [==============================] - 0s 18us/step - loss: 1.5015 - acc: 0.7890: 0s - loss: 1.5363 - ac\n",
      "Epoch 26/100\n",
      "26048/26048 [==============================] - 0s 17us/step - loss: 1.5006 - acc: 0.7882\n",
      "Epoch 27/100\n",
      "26048/26048 [==============================] - 0s 18us/step - loss: 1.5022 - acc: 0.7864\n",
      "Epoch 28/100\n",
      "26048/26048 [==============================] - 1s 31us/step - loss: 1.5015 - acc: 0.7871\n",
      "Epoch 29/100\n",
      "26048/26048 [==============================] - 1s 31us/step - loss: 1.5005 - acc: 0.7874\n",
      "Epoch 30/100\n",
      "26048/26048 [==============================] - 1s 25us/step - loss: 1.4988 - acc: 0.7890\n",
      "Epoch 31/100\n",
      "26048/26048 [==============================] - 1s 30us/step - loss: 1.5005 - acc: 0.7879\n",
      "Epoch 32/100\n",
      "26048/26048 [==============================] - 1s 23us/step - loss: 1.4996 - acc: 0.7871\n",
      "Epoch 33/100\n",
      "26048/26048 [==============================] - 1s 23us/step - loss: 1.4985 - acc: 0.7899\n",
      "Epoch 34/100\n",
      "26048/26048 [==============================] - 0s 19us/step - loss: 1.4978 - acc: 0.7876\n",
      "Epoch 35/100\n",
      "26048/26048 [==============================] - 0s 19us/step - loss: 1.5003 - acc: 0.7883\n",
      "Epoch 36/100\n",
      "26048/26048 [==============================] - 1s 20us/step - loss: 1.4965 - acc: 0.7912\n",
      "Epoch 37/100\n",
      "26048/26048 [==============================] - 0s 18us/step - loss: 1.4971 - acc: 0.7896\n",
      "Epoch 38/100\n",
      "26048/26048 [==============================] - 1s 19us/step - loss: 1.4962 - acc: 0.7889: 0s - loss: 1.4309 - ac\n",
      "Epoch 39/100\n",
      "26048/26048 [==============================] - 0s 19us/step - loss: 1.4970 - acc: 0.7902\n",
      "Epoch 40/100\n",
      "26048/26048 [==============================] - 1s 26us/step - loss: 1.4983 - acc: 0.7896\n",
      "Epoch 41/100\n",
      "26048/26048 [==============================] - 1s 23us/step - loss: 1.4986 - acc: 0.7888\n",
      "Epoch 42/100\n",
      "26048/26048 [==============================] - 1s 24us/step - loss: 1.4965 - acc: 0.7902\n",
      "Epoch 43/100\n",
      "26048/26048 [==============================] - 1s 28us/step - loss: 1.4969 - acc: 0.7898\n",
      "Epoch 44/100\n",
      "26048/26048 [==============================] - 1s 27us/step - loss: 1.4952 - acc: 0.7903\n",
      "Epoch 45/100\n",
      "26048/26048 [==============================] - 1s 28us/step - loss: 1.4955 - acc: 0.7893\n",
      "Epoch 46/100\n",
      "26048/26048 [==============================] - 1s 27us/step - loss: 1.4946 - acc: 0.7903\n",
      "Epoch 47/100\n",
      "26048/26048 [==============================] - 1s 21us/step - loss: 1.4954 - acc: 0.7898\n",
      "Epoch 48/100\n",
      "26048/26048 [==============================] - 0s 19us/step - loss: 1.4955 - acc: 0.7910\n",
      "Epoch 49/100\n",
      "26048/26048 [==============================] - 0s 19us/step - loss: 1.4947 - acc: 0.7894\n",
      "Epoch 50/100\n",
      "26048/26048 [==============================] - 1s 20us/step - loss: 1.4954 - acc: 0.7900\n",
      "Epoch 51/100\n",
      "26048/26048 [==============================] - 0s 18us/step - loss: 1.4955 - acc: 0.7898\n",
      "Epoch 52/100\n",
      "26048/26048 [==============================] - 0s 19us/step - loss: 1.4952 - acc: 0.7907\n",
      "Epoch 53/100\n",
      "26048/26048 [==============================] - 1s 23us/step - loss: 1.4946 - acc: 0.7902\n",
      "Epoch 54/100\n",
      "26048/26048 [==============================] - 0s 18us/step - loss: 1.4953 - acc: 0.7898\n",
      "Epoch 55/100\n",
      "26048/26048 [==============================] - 1s 27us/step - loss: 1.4947 - acc: 0.7908\n",
      "Epoch 56/100\n",
      "26048/26048 [==============================] - 1s 21us/step - loss: 1.4933 - acc: 0.7913\n",
      "Epoch 57/100\n",
      "26048/26048 [==============================] - 1s 20us/step - loss: 1.4957 - acc: 0.7896: 0s - loss: 1.4269 - a\n",
      "Epoch 58/100\n",
      "26048/26048 [==============================] - 1s 19us/step - loss: 1.4948 - acc: 0.7902\n",
      "Epoch 59/100\n",
      "26048/26048 [==============================] - 1s 19us/step - loss: 1.4937 - acc: 0.7908\n",
      "Epoch 60/100\n",
      "26048/26048 [==============================] - 1s 26us/step - loss: 1.4932 - acc: 0.7911\n",
      "Epoch 61/100\n",
      "26048/26048 [==============================] - 0s 19us/step - loss: 1.4929 - acc: 0.7922\n",
      "Epoch 62/100\n",
      "26048/26048 [==============================] - 1s 24us/step - loss: 1.4932 - acc: 0.7915\n",
      "Epoch 63/100\n",
      "26048/26048 [==============================] - 0s 18us/step - loss: 1.4932 - acc: 0.7923\n",
      "Epoch 64/100\n",
      "26048/26048 [==============================] - 1s 20us/step - loss: 1.4933 - acc: 0.7915\n",
      "Epoch 65/100\n",
      "26048/26048 [==============================] - 1s 19us/step - loss: 1.4931 - acc: 0.7906\n",
      "Epoch 66/100\n",
      "26048/26048 [==============================] - 1s 20us/step - loss: 1.4928 - acc: 0.7918\n",
      "Epoch 67/100\n",
      "26048/26048 [==============================] - 0s 19us/step - loss: 1.4916 - acc: 0.7927\n",
      "Epoch 68/100\n",
      "26048/26048 [==============================] - 1s 23us/step - loss: 1.4913 - acc: 0.7928\n",
      "Epoch 69/100\n",
      "26048/26048 [==============================] - 1s 22us/step - loss: 1.4927 - acc: 0.7908\n",
      "Epoch 70/100\n",
      "26048/26048 [==============================] - 1s 20us/step - loss: 1.4926 - acc: 0.7899\n",
      "Epoch 71/100\n",
      "26048/26048 [==============================] - 0s 19us/step - loss: 1.4947 - acc: 0.7885\n",
      "Epoch 72/100\n",
      "26048/26048 [==============================] - 1s 20us/step - loss: 1.4927 - acc: 0.7910\n",
      "Epoch 73/100\n",
      "26048/26048 [==============================] - 1s 20us/step - loss: 1.4937 - acc: 0.7905\n",
      "Epoch 74/100\n",
      "26048/26048 [==============================] - 1s 20us/step - loss: 1.4923 - acc: 0.7924\n",
      "Epoch 75/100\n",
      "26048/26048 [==============================] - 1s 20us/step - loss: 1.4923 - acc: 0.7909\n",
      "Epoch 76/100\n",
      "26048/26048 [==============================] - 1s 20us/step - loss: 1.4932 - acc: 0.7903\n",
      "Epoch 77/100\n",
      "26048/26048 [==============================] - 0s 18us/step - loss: 1.4934 - acc: 0.7911\n",
      "Epoch 78/100\n",
      "26048/26048 [==============================] - 0s 19us/step - loss: 1.4929 - acc: 0.7917\n",
      "Epoch 79/100\n",
      "26048/26048 [==============================] - 1s 22us/step - loss: 1.4919 - acc: 0.7920\n",
      "Epoch 80/100\n"
     ]
    },
    {
     "name": "stdout",
     "output_type": "stream",
     "text": [
      "26048/26048 [==============================] - 0s 18us/step - loss: 1.4915 - acc: 0.7925\n",
      "Epoch 81/100\n",
      "26048/26048 [==============================] - 1s 21us/step - loss: 1.4935 - acc: 0.7898\n",
      "Epoch 82/100\n",
      "26048/26048 [==============================] - 1s 27us/step - loss: 1.4906 - acc: 0.7927\n",
      "Epoch 83/100\n",
      "26048/26048 [==============================] - 1s 23us/step - loss: 1.4911 - acc: 0.7938\n",
      "Epoch 84/100\n",
      "26048/26048 [==============================] - 1s 20us/step - loss: 1.4918 - acc: 0.7924\n",
      "Epoch 85/100\n",
      "26048/26048 [==============================] - 1s 19us/step - loss: 1.4914 - acc: 0.7920\n",
      "Epoch 86/100\n",
      "26048/26048 [==============================] - 1s 21us/step - loss: 1.4911 - acc: 0.7933\n",
      "Epoch 87/100\n",
      "26048/26048 [==============================] - 1s 31us/step - loss: 1.4912 - acc: 0.7920\n",
      "Epoch 88/100\n",
      "26048/26048 [==============================] - 1s 25us/step - loss: 1.4916 - acc: 0.7908\n",
      "Epoch 89/100\n",
      "26048/26048 [==============================] - 1s 24us/step - loss: 1.4919 - acc: 0.7924\n",
      "Epoch 90/100\n",
      "26048/26048 [==============================] - 1s 24us/step - loss: 1.4904 - acc: 0.7938\n",
      "Epoch 91/100\n",
      "26048/26048 [==============================] - 1s 25us/step - loss: 1.4906 - acc: 0.7918\n",
      "Epoch 92/100\n",
      "26048/26048 [==============================] - 1s 24us/step - loss: 1.4923 - acc: 0.7903\n",
      "Epoch 93/100\n",
      "26048/26048 [==============================] - 1s 21us/step - loss: 1.4916 - acc: 0.7934\n",
      "Epoch 94/100\n",
      "26048/26048 [==============================] - 1s 25us/step - loss: 1.4909 - acc: 0.7932\n",
      "Epoch 95/100\n",
      "26048/26048 [==============================] - 1s 25us/step - loss: 1.4899 - acc: 0.7928\n",
      "Epoch 96/100\n",
      "26048/26048 [==============================] - 1s 24us/step - loss: 1.4908 - acc: 0.7930\n",
      "Epoch 97/100\n",
      "26048/26048 [==============================] - 1s 25us/step - loss: 1.4900 - acc: 0.7924\n",
      "Epoch 98/100\n",
      "26048/26048 [==============================] - 1s 24us/step - loss: 1.4917 - acc: 0.7908\n",
      "Epoch 99/100\n",
      "26048/26048 [==============================] - 1s 25us/step - loss: 1.4899 - acc: 0.7918\n",
      "Epoch 100/100\n",
      "26048/26048 [==============================] - 1s 25us/step - loss: 1.4910 - acc: 0.7922\n"
     ]
    },
    {
     "data": {
      "text/plain": [
       "<keras.callbacks.History at 0x1b2971ef588>"
      ]
     },
     "execution_count": 236,
     "metadata": {},
     "output_type": "execute_result"
    }
   ],
   "source": [
    "model.fit(X_train, y_train, batch_size=batch_size, epochs=epochs)"
   ]
  },
  {
   "cell_type": "code",
   "execution_count": 237,
   "metadata": {},
   "outputs": [
    {
     "name": "stdout",
     "output_type": "stream",
     "text": [
      "6513/6513 [==============================] - 0s 48us/step\n"
     ]
    }
   ],
   "source": [
    "evaluation = model.evaluate(X_test, y_test, verbose=1)"
   ]
  },
  {
   "cell_type": "code",
   "execution_count": 238,
   "metadata": {},
   "outputs": [
    {
     "data": {
      "text/plain": [
       "0.7953324121263341"
      ]
     },
     "execution_count": 238,
     "metadata": {},
     "output_type": "execute_result"
    }
   ],
   "source": [
    "evaluation[1]"
   ]
  },
  {
   "cell_type": "code",
   "execution_count": null,
   "metadata": {},
   "outputs": [],
   "source": []
  }
 ],
 "metadata": {
  "kernelspec": {
   "display_name": "Python 3",
   "language": "python",
   "name": "python3"
  },
  "language_info": {
   "codemirror_mode": {
    "name": "ipython",
    "version": 3
   },
   "file_extension": ".py",
   "mimetype": "text/x-python",
   "name": "python",
   "nbconvert_exporter": "python",
   "pygments_lexer": "ipython3",
   "version": "3.6.4"
  }
 },
 "nbformat": 4,
 "nbformat_minor": 2
}
